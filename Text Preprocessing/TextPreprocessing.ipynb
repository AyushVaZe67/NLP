{
 "cells": [
  {
   "cell_type": "code",
   "execution_count": 1,
   "id": "c35b049d-cd1b-400f-9487-7e760b9afe7d",
   "metadata": {},
   "outputs": [],
   "source": [
    "text = \"The QUICK Brown FoX Jumps Over The LAZY Dog!\""
   ]
  },
  {
   "cell_type": "code",
   "execution_count": 2,
   "id": "bd933e86-7693-43db-91c8-164266d0d2d0",
   "metadata": {},
   "outputs": [
    {
     "data": {
      "text/plain": [
       "'the quick brown fox jumps over the lazy dog!'"
      ]
     },
     "execution_count": 2,
     "metadata": {},
     "output_type": "execute_result"
    }
   ],
   "source": [
    "text.lower()"
   ]
  },
  {
   "cell_type": "code",
   "execution_count": 4,
   "id": "a17da7cb-e16b-4e46-a3a2-0b88d4968479",
   "metadata": {},
   "outputs": [
    {
     "name": "stdout",
     "output_type": "stream",
     "text": [
      "welcome to my websitethis is a sample paragraph!\n"
     ]
    }
   ],
   "source": [
    "import re\n",
    "\n",
    "html_text = \"<h1>Welcome TO <b>My Website</b></h1><p>This is a SAMPLE Paragraph!</p>\"\n",
    "\n",
    "# Remove HTML tags using regex\n",
    "clean_text = re.sub(r'<[^>]+>', '', html_text)\n",
    "\n",
    "# Lowercase the result\n",
    "clean_text = clean_text.lower()\n",
    "\n",
    "print(clean_text)"
   ]
  },
  {
   "cell_type": "code",
   "execution_count": 5,
   "id": "dba5a967-5a13-4e46-b5b9-f3f8e230044a",
   "metadata": {},
   "outputs": [],
   "source": [
    "html = '<a href=\"https://example.com\">Click here</a> to visit our <a href=\"https://blog.example.com\">blog</a>.'"
   ]
  },
  {
   "cell_type": "code",
   "execution_count": 6,
   "id": "a174628a-c31b-40d8-af70-74afa5b9126a",
   "metadata": {},
   "outputs": [
    {
     "name": "stdout",
     "output_type": "stream",
     "text": [
      " to visit our .\n"
     ]
    }
   ],
   "source": [
    "clean_text = re.sub(r'<a [^>]*>.*?</a>', '', html)\n",
    "print(clean_text)"
   ]
  },
  {
   "cell_type": "code",
   "execution_count": 7,
   "id": "fc93cafa-6f53-4d94-87e0-d4b19246d969",
   "metadata": {},
   "outputs": [],
   "source": [
    "text = \"Hello there! How's everything going? I'm working on GenAI, NLP, etc. It's fun, right?\""
   ]
  },
  {
   "cell_type": "code",
   "execution_count": 9,
   "id": "a7ad6781-069b-4523-ba6e-1ddb8f5c56b5",
   "metadata": {},
   "outputs": [
    {
     "name": "stdout",
     "output_type": "stream",
     "text": [
      "Hello there Hows everything going Im working on GenAI NLP etc Its fun right\n"
     ]
    }
   ],
   "source": [
    "import string\n",
    "clean_text = ''.join(char for char in text if char not in string.punctuation)\n",
    "\n",
    "print(clean_text)"
   ]
  },
  {
   "cell_type": "code",
   "execution_count": 10,
   "id": "46778371-d818-4e23-9673-2c8b97ff602e",
   "metadata": {},
   "outputs": [
    {
     "name": "stdout",
     "output_type": "stream",
     "text": [
      "Original Text: GN! Please reply ASAP. FYI, the docs are ready. TTYL!\n",
      "Cleaned Words: ['gn', 'please', 'reply', 'asap', 'fyi', 'the', 'docs', 'are', 'ready', 'ttyl']\n",
      "Expanded Words: ['good night', 'please', 'reply', 'as soon as possible', 'for your information', 'the', 'docs', 'are', 'ready', 'talk to you later']\n",
      "Expanded Text: good night please reply as soon as possible for your information the docs are ready talk to you later\n"
     ]
    }
   ],
   "source": [
    "import string\n",
    "\n",
    "# Sample text with abbreviations\n",
    "text = \"GN! Please reply ASAP. FYI, the docs are ready. TTYL!\"\n",
    "\n",
    "# Dictionary for common abbreviations\n",
    "abbreviations = {\n",
    "    'gn': 'good night',\n",
    "    'asap': 'as soon as possible',\n",
    "    'fyi': 'for your information',\n",
    "    'ttyl': 'talk to you later'\n",
    "}\n",
    "\n",
    "# 1. Lowercase & remove punctuation\n",
    "clean_text = ''.join(char for char in text.lower() if char not in string.punctuation)\n",
    "\n",
    "# 2. Split into words\n",
    "words = clean_text.split()\n",
    "\n",
    "# 3. Replace abbreviations\n",
    "expanded_words = [abbreviations.get(word, word) for word in words]\n",
    "\n",
    "# 4. Rejoin expanded words\n",
    "expanded_text = ' '.join(expanded_words)\n",
    "\n",
    "# Output\n",
    "print(\"Original Text:\", text)\n",
    "print(\"Cleaned Words:\", words)\n",
    "print(\"Expanded Words:\", expanded_words)\n",
    "print(\"Expanded Text:\", expanded_text)"
   ]
  },
  {
   "cell_type": "code",
   "execution_count": null,
   "id": "77e96402-ec2c-4e2a-91ca-b67d6c9cae1a",
   "metadata": {},
   "outputs": [],
   "source": []
  }
 ],
 "metadata": {
  "kernelspec": {
   "display_name": "Python 3 (ipykernel)",
   "language": "python",
   "name": "python3"
  },
  "language_info": {
   "codemirror_mode": {
    "name": "ipython",
    "version": 3
   },
   "file_extension": ".py",
   "mimetype": "text/x-python",
   "name": "python",
   "nbconvert_exporter": "python",
   "pygments_lexer": "ipython3",
   "version": "3.9.18"
  }
 },
 "nbformat": 4,
 "nbformat_minor": 5
}

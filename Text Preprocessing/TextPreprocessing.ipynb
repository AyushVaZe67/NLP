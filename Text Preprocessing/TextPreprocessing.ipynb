{
 "cells": [
  {
   "cell_type": "code",
   "execution_count": 1,
   "id": "c35b049d-cd1b-400f-9487-7e760b9afe7d",
   "metadata": {},
   "outputs": [],
   "source": [
    "text = \"The QUICK Brown FoX Jumps Over The LAZY Dog!\""
   ]
  },
  {
   "cell_type": "code",
   "execution_count": 2,
   "id": "bd933e86-7693-43db-91c8-164266d0d2d0",
   "metadata": {},
   "outputs": [
    {
     "data": {
      "text/plain": [
       "'the quick brown fox jumps over the lazy dog!'"
      ]
     },
     "execution_count": 2,
     "metadata": {},
     "output_type": "execute_result"
    }
   ],
   "source": [
    "text.lower()"
   ]
  },
  {
   "cell_type": "code",
   "execution_count": 4,
   "id": "a17da7cb-e16b-4e46-a3a2-0b88d4968479",
   "metadata": {},
   "outputs": [
    {
     "name": "stdout",
     "output_type": "stream",
     "text": [
      "welcome to my websitethis is a sample paragraph!\n"
     ]
    }
   ],
   "source": [
    "import re\n",
    "\n",
    "html_text = \"<h1>Welcome TO <b>My Website</b></h1><p>This is a SAMPLE Paragraph!</p>\"\n",
    "\n",
    "# Remove HTML tags using regex\n",
    "clean_text = re.sub(r'<[^>]+>', '', html_text)\n",
    "\n",
    "# Lowercase the result\n",
    "clean_text = clean_text.lower()\n",
    "\n",
    "print(clean_text)"
   ]
  },
  {
   "cell_type": "code",
   "execution_count": null,
   "id": "dba5a967-5a13-4e46-b5b9-f3f8e230044a",
   "metadata": {},
   "outputs": [],
   "source": []
  }
 ],
 "metadata": {
  "kernelspec": {
   "display_name": "Python 3 (ipykernel)",
   "language": "python",
   "name": "python3"
  },
  "language_info": {
   "codemirror_mode": {
    "name": "ipython",
    "version": 3
   },
   "file_extension": ".py",
   "mimetype": "text/x-python",
   "name": "python",
   "nbconvert_exporter": "python",
   "pygments_lexer": "ipython3",
   "version": "3.9.18"
  }
 },
 "nbformat": 4,
 "nbformat_minor": 5
}

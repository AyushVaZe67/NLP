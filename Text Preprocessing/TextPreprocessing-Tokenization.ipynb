{
 "cells": [
  {
   "cell_type": "code",
   "execution_count": null,
   "id": "231a78cd-0c9f-4108-ae2c-3c88fa757488",
   "metadata": {},
   "outputs": [],
   "source": [
    "text1 = 'Natural Language Processing (NLP) allows machines to understand human language. Tokenization is the first step in many NLP tasks. It splits text into words, sentences, or other meaningful units.'"
   ]
  },
  {
   "cell_type": "code",
   "execution_count": 2,
   "id": "e25975ad-6d86-4ece-a407-61777b19aaa3",
   "metadata": {},
   "outputs": [
    {
     "data": {
      "text/plain": [
       "'Natural Language Processing (NLP) allows machines to understand human language. Tokenization is the first step in many NLP tasks. It splits text into words, sentences, or other meaningful units.'"
      ]
     },
     "execution_count": 2,
     "metadata": {},
     "output_type": "execute_result"
    }
   ],
   "source": [
    "text"
   ]
  },
  {
   "cell_type": "code",
   "execution_count": 3,
   "id": "ca41e04b-1d69-468c-ba4c-19994e2f31df",
   "metadata": {},
   "outputs": [
    {
     "data": {
      "text/plain": [
       "['Natural',\n",
       " 'Language',\n",
       " 'Processing',\n",
       " '(NLP)',\n",
       " 'allows',\n",
       " 'machines',\n",
       " 'to',\n",
       " 'understand',\n",
       " 'human',\n",
       " 'language.',\n",
       " 'Tokenization',\n",
       " 'is',\n",
       " 'the',\n",
       " 'first',\n",
       " 'step',\n",
       " 'in',\n",
       " 'many',\n",
       " 'NLP',\n",
       " 'tasks.',\n",
       " 'It',\n",
       " 'splits',\n",
       " 'text',\n",
       " 'into',\n",
       " 'words,',\n",
       " 'sentences,',\n",
       " 'or',\n",
       " 'other',\n",
       " 'meaningful',\n",
       " 'units.']"
      ]
     },
     "execution_count": 3,
     "metadata": {},
     "output_type": "execute_result"
    }
   ],
   "source": [
    "text.split()"
   ]
  },
  {
   "cell_type": "code",
   "execution_count": 4,
   "id": "e8963a26-1606-4f34-8e22-f031f9da258e",
   "metadata": {},
   "outputs": [
    {
     "data": {
      "text/plain": [
       "['Natural Language Processing (NLP) allows machines to understand human language',\n",
       " ' Tokenization is the first step in many NLP tasks',\n",
       " ' It splits text into words, sentences, or other meaningful units',\n",
       " '']"
      ]
     },
     "execution_count": 4,
     "metadata": {},
     "output_type": "execute_result"
    }
   ],
   "source": [
    "text.split('.')"
   ]
  },
  {
   "cell_type": "code",
   "execution_count": 5,
   "id": "98922b7d-c770-4938-83d6-894b3e2cb570",
   "metadata": {},
   "outputs": [],
   "source": [
    "text = 'Hello!, How are you?'"
   ]
  },
  {
   "cell_type": "code",
   "execution_count": 6,
   "id": "700da3d1-8833-4033-b4aa-70c7447769ab",
   "metadata": {},
   "outputs": [
    {
     "data": {
      "text/plain": [
       "['Hello!,', 'How', 'are', 'you?']"
      ]
     },
     "execution_count": 6,
     "metadata": {},
     "output_type": "execute_result"
    }
   ],
   "source": [
    "text.split()"
   ]
  },
  {
   "cell_type": "code",
   "execution_count": 7,
   "id": "34db88fa-5a70-4a7e-82db-eb1e2fb86838",
   "metadata": {},
   "outputs": [],
   "source": [
    "#tokenization"
   ]
  },
  {
   "cell_type": "code",
   "execution_count": 8,
   "id": "d8323140-9f7d-42e6-a246-a4ca9b58e9aa",
   "metadata": {},
   "outputs": [],
   "source": [
    "from nltk.tokenize import word_tokenize,sent_tokenize"
   ]
  },
  {
   "cell_type": "code",
   "execution_count": 11,
   "id": "1b07ac60-5e7b-4484-aaa2-9fc4104439ba",
   "metadata": {},
   "outputs": [
    {
     "data": {
      "text/plain": [
       "['Natural',\n",
       " 'Language',\n",
       " 'Processing',\n",
       " '(',\n",
       " 'NLP',\n",
       " ')',\n",
       " 'allows',\n",
       " 'machines',\n",
       " 'to',\n",
       " 'understand',\n",
       " 'human',\n",
       " 'language',\n",
       " '.',\n",
       " 'Tokenization',\n",
       " 'is',\n",
       " 'the',\n",
       " 'first',\n",
       " 'step',\n",
       " 'in',\n",
       " 'many',\n",
       " 'NLP',\n",
       " 'tasks',\n",
       " '.',\n",
       " 'It',\n",
       " 'splits',\n",
       " 'text',\n",
       " 'into',\n",
       " 'words',\n",
       " ',',\n",
       " 'sentences',\n",
       " ',',\n",
       " 'or',\n",
       " 'other',\n",
       " 'meaningful',\n",
       " 'units',\n",
       " '.']"
      ]
     },
     "execution_count": 11,
     "metadata": {},
     "output_type": "execute_result"
    }
   ],
   "source": [
    "word_tokenize(text)"
   ]
  },
  {
   "cell_type": "code",
   "execution_count": 12,
   "id": "24632bba-dc13-497d-87a4-bc2d3cdf001d",
   "metadata": {},
   "outputs": [
    {
     "data": {
      "text/plain": [
       "['Natural Language Processing (NLP) allows machines to understand human language.',\n",
       " 'Tokenization is the first step in many NLP tasks.',\n",
       " 'It splits text into words, sentences, or other meaningful units.']"
      ]
     },
     "execution_count": 12,
     "metadata": {},
     "output_type": "execute_result"
    }
   ],
   "source": [
    "sent_tokenize(text)"
   ]
  },
  {
   "cell_type": "code",
   "execution_count": null,
   "id": "797df712-03e1-46bc-b7db-155f1eab1bd7",
   "metadata": {},
   "outputs": [],
   "source": [
    "!pip install spacy"
   ]
  },
  {
   "cell_type": "code",
   "execution_count": null,
   "id": "e5db3974-8a90-41ce-ba92-59ffd223e0eb",
   "metadata": {},
   "outputs": [],
   "source": [
    "doc1 = nlp(text1)"
   ]
  },
  {
   "cell_type": "code",
   "execution_count": null,
   "id": "fcd3f9a7-81fd-4dc6-92c2-5c4d4b83dc1b",
   "metadata": {},
   "outputs": [],
   "source": [
    "doc1[0]"
   ]
  },
  {
   "cell_type": "code",
   "execution_count": null,
   "id": "9809db49-fdf8-41fe-8346-7d2037475d01",
   "metadata": {},
   "outputs": [],
   "source": []
  }
 ],
 "metadata": {
  "kernelspec": {
   "display_name": "Python 3 (ipykernel)",
   "language": "python",
   "name": "python3"
  },
  "language_info": {
   "codemirror_mode": {
    "name": "ipython",
    "version": 3
   },
   "file_extension": ".py",
   "mimetype": "text/x-python",
   "name": "python",
   "nbconvert_exporter": "python",
   "pygments_lexer": "ipython3",
   "version": "3.9.18"
  }
 },
 "nbformat": 4,
 "nbformat_minor": 5
}

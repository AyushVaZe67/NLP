{
 "cells": [
  {
   "cell_type": "code",
   "execution_count": 1,
   "id": "c5d5ae49-d3ad-41bb-bd56-4be241f46e32",
   "metadata": {},
   "outputs": [],
   "source": [
    "html_text = \"\"\"<!DOCTYPE html><html><head><title>Sample HTML Document</title></head><body><h1>Welcome to <em>Natural Language Processing</em>!</h1><p>This is a <strong>sample</strong> paragraph with some <a href='https://example.com'>HTML links</a> and <span style='color:red;'>inline styles</span>.</p><p>Here's a list of topics:</p><ul><li>Tokenization</li><li>Stopword Removal</li><li>Stemming &amp; Lemmatization</li></ul><p>Special characters: &copy; 2025 NLP Inc. &mdash; All rights reserved.</p><!-- This is a comment and should be removed --><script>console.log(\"This script should not be included in cleaned text.\");</script></body></html>\"\"\""
   ]
  },
  {
   "cell_type": "code",
   "execution_count": 2,
   "id": "458c30b8-824d-49d6-be2f-3bd1e3632bc9",
   "metadata": {},
   "outputs": [
    {
     "data": {
      "text/plain": [
       "'<!DOCTYPE html><html><head><title>Sample HTML Document</title></head><body><h1>Welcome to <em>Natural Language Processing</em>!</h1><p>This is a <strong>sample</strong> paragraph with some <a href=\\'https://example.com\\'>HTML links</a> and <span style=\\'color:red;\\'>inline styles</span>.</p><p>Here\\'s a list of topics:</p><ul><li>Tokenization</li><li>Stopword Removal</li><li>Stemming &amp; Lemmatization</li></ul><p>Special characters: &copy; 2025 NLP Inc. &mdash; All rights reserved.</p><!-- This is a comment and should be removed --><script>console.log(\"This script should not be included in cleaned text.\");</script></body></html>'"
      ]
     },
     "execution_count": 2,
     "metadata": {},
     "output_type": "execute_result"
    }
   ],
   "source": [
    "html_text"
   ]
  },
  {
   "cell_type": "code",
   "execution_count": null,
   "id": "0829961b-70ad-4913-8d2f-d41c595cdbd1",
   "metadata": {},
   "outputs": [],
   "source": []
  }
 ],
 "metadata": {
  "kernelspec": {
   "display_name": "Python 3 (ipykernel)",
   "language": "python",
   "name": "python3"
  },
  "language_info": {
   "codemirror_mode": {
    "name": "ipython",
    "version": 3
   },
   "file_extension": ".py",
   "mimetype": "text/x-python",
   "name": "python",
   "nbconvert_exporter": "python",
   "pygments_lexer": "ipython3",
   "version": "3.9.18"
  }
 },
 "nbformat": 4,
 "nbformat_minor": 5
}

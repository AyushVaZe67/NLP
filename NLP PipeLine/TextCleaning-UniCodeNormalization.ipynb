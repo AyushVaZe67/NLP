{
 "cells": [
  {
   "cell_type": "code",
   "execution_count": 1,
   "id": "7257ccde-15be-469d-b094-36ba6867e55b",
   "metadata": {},
   "outputs": [],
   "source": [
    "emoji_text = \"I love coding! 💻😄🔥 Let's grab some coffee ☕ and start working on our project 🚀👨‍💻. Mood today: 😎💯 #productive #AI❤️\""
   ]
  },
  {
   "cell_type": "code",
   "execution_count": 3,
   "id": "f5710192-a457-430f-9c57-d237575d7a31",
   "metadata": {},
   "outputs": [
    {
     "data": {
      "text/plain": [
       "b\"I love coding! \\xf0\\x9f\\x92\\xbb\\xf0\\x9f\\x98\\x84\\xf0\\x9f\\x94\\xa5 Let's grab some coffee \\xe2\\x98\\x95 and start working on our project \\xf0\\x9f\\x9a\\x80\\xf0\\x9f\\x91\\xa8\\xe2\\x80\\x8d\\xf0\\x9f\\x92\\xbb. Mood today: \\xf0\\x9f\\x98\\x8e\\xf0\\x9f\\x92\\xaf #productive #AI\\xe2\\x9d\\xa4\\xef\\xb8\\x8f\""
      ]
     },
     "execution_count": 3,
     "metadata": {},
     "output_type": "execute_result"
    }
   ],
   "source": [
    "emoji_text.encode('utf-8')"
   ]
  },
  {
   "cell_type": "code",
   "execution_count": null,
   "id": "a39a7332-7727-49c2-9113-1ef94b511b15",
   "metadata": {},
   "outputs": [],
   "source": []
  }
 ],
 "metadata": {
  "kernelspec": {
   "display_name": "Python 3 (ipykernel)",
   "language": "python",
   "name": "python3"
  },
  "language_info": {
   "codemirror_mode": {
    "name": "ipython",
    "version": 3
   },
   "file_extension": ".py",
   "mimetype": "text/x-python",
   "name": "python",
   "nbconvert_exporter": "python",
   "pygments_lexer": "ipython3",
   "version": "3.9.18"
  }
 },
 "nbformat": 4,
 "nbformat_minor": 5
}

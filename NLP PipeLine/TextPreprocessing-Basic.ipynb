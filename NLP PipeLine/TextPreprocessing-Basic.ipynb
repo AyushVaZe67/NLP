{
 "cells": [
  {
   "cell_type": "code",
   "execution_count": 2,
   "id": "7ebbeb36-df55-42a1-a39f-67f34499d8eb",
   "metadata": {},
   "outputs": [],
   "source": [
    "sample_text = \"Hello! My name is Ayush. I'm learning Natural Language Processing, and it's quite interesting. Let's build something cool together.\""
   ]
  },
  {
   "cell_type": "code",
   "execution_count": 7,
   "id": "412a3c46-f264-4364-9a26-b05668b22a83",
   "metadata": {},
   "outputs": [],
   "source": [
    "from nltk.tokenize import sent_tokenize, word_tokenize"
   ]
  },
  {
   "cell_type": "code",
   "execution_count": 5,
   "id": "8d1fd492-ced1-4479-8e99-9cc9636655f0",
   "metadata": {},
   "outputs": [],
   "source": [
    "tokenized1 = sent_tokenize(sample_text)"
   ]
  },
  {
   "cell_type": "code",
   "execution_count": 6,
   "id": "3543d04d-72de-48e0-9084-537d17577df0",
   "metadata": {},
   "outputs": [
    {
     "data": {
      "text/plain": [
       "['Hello!',\n",
       " 'My name is Ayush.',\n",
       " \"I'm learning Natural Language Processing, and it's quite interesting.\",\n",
       " \"Let's build something cool together.\"]"
      ]
     },
     "execution_count": 6,
     "metadata": {},
     "output_type": "execute_result"
    }
   ],
   "source": [
    "tokenized1"
   ]
  },
  {
   "cell_type": "code",
   "execution_count": 8,
   "id": "c13933c9-13fe-42ad-8a2a-25c32f3b458b",
   "metadata": {},
   "outputs": [
    {
     "data": {
      "text/plain": [
       "['Hello',\n",
       " '!',\n",
       " 'My',\n",
       " 'name',\n",
       " 'is',\n",
       " 'Ayush',\n",
       " '.',\n",
       " 'I',\n",
       " \"'m\",\n",
       " 'learning',\n",
       " 'Natural',\n",
       " 'Language',\n",
       " 'Processing',\n",
       " ',',\n",
       " 'and',\n",
       " 'it',\n",
       " \"'s\",\n",
       " 'quite',\n",
       " 'interesting',\n",
       " '.',\n",
       " 'Let',\n",
       " \"'s\",\n",
       " 'build',\n",
       " 'something',\n",
       " 'cool',\n",
       " 'together',\n",
       " '.']"
      ]
     },
     "execution_count": 8,
     "metadata": {},
     "output_type": "execute_result"
    }
   ],
   "source": [
    "tokenized2 = word_tokenize(sample_text)\n",
    "tokenized2"
   ]
  },
  {
   "cell_type": "code",
   "execution_count": null,
   "id": "3bc1d3ab-755c-444f-86b2-857100fa3a68",
   "metadata": {},
   "outputs": [],
   "source": []
  }
 ],
 "metadata": {
  "kernelspec": {
   "display_name": "Python 3 (ipykernel)",
   "language": "python",
   "name": "python3"
  },
  "language_info": {
   "codemirror_mode": {
    "name": "ipython",
    "version": 3
   },
   "file_extension": ".py",
   "mimetype": "text/x-python",
   "name": "python",
   "nbconvert_exporter": "python",
   "pygments_lexer": "ipython3",
   "version": "3.9.18"
  }
 },
 "nbformat": 4,
 "nbformat_minor": 5
}

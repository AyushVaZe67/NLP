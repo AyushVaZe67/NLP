{
 "cells": [
  {
   "cell_type": "code",
   "execution_count": 9,
   "id": "28b24aec-cb53-4bc1-9ae6-743153f400d0",
   "metadata": {},
   "outputs": [
    {
     "name": "stdout",
     "output_type": "stream",
     "text": [
      "   id             sentence  output\n",
      "0   1   apple banana apple       1\n",
      "1   2        banana orange       0\n",
      "2   3          grape apple       1\n",
      "3   4  banana orange grape       0\n",
      "4   5    apple grape fruit       1\n"
     ]
    }
   ],
   "source": [
    "import pandas as pd\n",
    "\n",
    "# Updated data with only 6 unique words total\n",
    "data = {\n",
    "    'id': [1, 2, 3, 4, 5],\n",
    "    'sentence': [\n",
    "        \"apple banana apple\",          # uses apple, banana\n",
    "        \"banana orange\",               # uses banana, orange\n",
    "        \"grape apple\",                 # uses grape, apple\n",
    "        \"banana orange grape\",         # banana, orange, grape\n",
    "        \"apple grape fruit\"            # apple, grape, fruit\n",
    "    ],\n",
    "    'output': [1, 0, 1, 0, 1]  # Binary labels\n",
    "}\n",
    "\n",
    "df = pd.DataFrame(data)\n",
    "print(df)"
   ]
  },
  {
   "cell_type": "code",
   "execution_count": 16,
   "id": "a52120dc-be77-466c-a7b5-2a83696ff28c",
   "metadata": {},
   "outputs": [
    {
     "data": {
      "text/html": [
       "<div>\n",
       "<style scoped>\n",
       "    .dataframe tbody tr th:only-of-type {\n",
       "        vertical-align: middle;\n",
       "    }\n",
       "\n",
       "    .dataframe tbody tr th {\n",
       "        vertical-align: top;\n",
       "    }\n",
       "\n",
       "    .dataframe thead th {\n",
       "        text-align: right;\n",
       "    }\n",
       "</style>\n",
       "<table border=\"1\" class=\"dataframe\">\n",
       "  <thead>\n",
       "    <tr style=\"text-align: right;\">\n",
       "      <th></th>\n",
       "      <th>id</th>\n",
       "      <th>sentence</th>\n",
       "      <th>output</th>\n",
       "    </tr>\n",
       "  </thead>\n",
       "  <tbody>\n",
       "    <tr>\n",
       "      <th>0</th>\n",
       "      <td>1</td>\n",
       "      <td>apple banana apple</td>\n",
       "      <td>1</td>\n",
       "    </tr>\n",
       "    <tr>\n",
       "      <th>1</th>\n",
       "      <td>2</td>\n",
       "      <td>banana orange</td>\n",
       "      <td>0</td>\n",
       "    </tr>\n",
       "    <tr>\n",
       "      <th>2</th>\n",
       "      <td>3</td>\n",
       "      <td>grape apple</td>\n",
       "      <td>1</td>\n",
       "    </tr>\n",
       "    <tr>\n",
       "      <th>3</th>\n",
       "      <td>4</td>\n",
       "      <td>banana orange grape</td>\n",
       "      <td>0</td>\n",
       "    </tr>\n",
       "    <tr>\n",
       "      <th>4</th>\n",
       "      <td>5</td>\n",
       "      <td>apple grape fruit</td>\n",
       "      <td>1</td>\n",
       "    </tr>\n",
       "  </tbody>\n",
       "</table>\n",
       "</div>"
      ],
      "text/plain": [
       "   id             sentence  output\n",
       "0   1   apple banana apple       1\n",
       "1   2        banana orange       0\n",
       "2   3          grape apple       1\n",
       "3   4  banana orange grape       0\n",
       "4   5    apple grape fruit       1"
      ]
     },
     "execution_count": 16,
     "metadata": {},
     "output_type": "execute_result"
    }
   ],
   "source": [
    "df"
   ]
  },
  {
   "cell_type": "code",
   "execution_count": 12,
   "id": "8abff6ea-b3e0-4a06-95dc-fabe5fbea945",
   "metadata": {},
   "outputs": [],
   "source": [
    "cv = CountVectorizer()"
   ]
  },
  {
   "cell_type": "code",
   "execution_count": 13,
   "id": "ecf04194-a164-4cb4-8c15-8e88d64f2d06",
   "metadata": {},
   "outputs": [],
   "source": [
    "bow = cv.fit_transform(df['sentence'])"
   ]
  },
  {
   "cell_type": "code",
   "execution_count": 14,
   "id": "ee1b65e7-7795-4ce6-b282-7c7749999fa9",
   "metadata": {},
   "outputs": [
    {
     "data": {
      "text/plain": [
       "{'apple': 0, 'banana': 1, 'orange': 4, 'grape': 3, 'fruit': 2}"
      ]
     },
     "execution_count": 14,
     "metadata": {},
     "output_type": "execute_result"
    }
   ],
   "source": [
    "cv.vocabulary_"
   ]
  },
  {
   "cell_type": "code",
   "execution_count": 15,
   "id": "801777ab-a486-4f85-bc66-8ffbda8c7d30",
   "metadata": {},
   "outputs": [
    {
     "data": {
      "text/plain": [
       "array([[2, 1, 0, 0, 0]], dtype=int64)"
      ]
     },
     "execution_count": 15,
     "metadata": {},
     "output_type": "execute_result"
    }
   ],
   "source": [
    "bow[0].toarray()"
   ]
  },
  {
   "cell_type": "code",
   "execution_count": 17,
   "id": "34309394-dcde-4947-a2ec-f9d087d00d2e",
   "metadata": {},
   "outputs": [
    {
     "data": {
      "text/plain": [
       "array([[0, 1, 0, 1, 1]], dtype=int64)"
      ]
     },
     "execution_count": 17,
     "metadata": {},
     "output_type": "execute_result"
    }
   ],
   "source": [
    "bow[3].toarray()"
   ]
  },
  {
   "cell_type": "code",
   "execution_count": 23,
   "id": "44937525-f60f-44cd-9774-78e8f6c2cf4c",
   "metadata": {},
   "outputs": [
    {
     "data": {
      "text/plain": [
       "array([[2, 1, 0, 0, 1]], dtype=int64)"
      ]
     },
     "execution_count": 23,
     "metadata": {},
     "output_type": "execute_result"
    }
   ],
   "source": [
    "cv.transform(['apple and banana and orange and graphes is all the best and apple']).toarray()"
   ]
  },
  {
   "cell_type": "code",
   "execution_count": null,
   "id": "816be348-e87f-4d35-b170-99f8afc1d453",
   "metadata": {},
   "outputs": [],
   "source": []
  }
 ],
 "metadata": {
  "kernelspec": {
   "display_name": "Python 3 (ipykernel)",
   "language": "python",
   "name": "python3"
  },
  "language_info": {
   "codemirror_mode": {
    "name": "ipython",
    "version": 3
   },
   "file_extension": ".py",
   "mimetype": "text/x-python",
   "name": "python",
   "nbconvert_exporter": "python",
   "pygments_lexer": "ipython3",
   "version": "3.9.18"
  }
 },
 "nbformat": 4,
 "nbformat_minor": 5
}

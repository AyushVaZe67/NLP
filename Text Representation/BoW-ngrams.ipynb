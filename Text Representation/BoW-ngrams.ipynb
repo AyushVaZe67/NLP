{
 "cells": [
  {
   "cell_type": "code",
   "execution_count": 1,
   "id": "c0faa153-c24c-4f27-83ab-ccd3c4bd27ee",
   "metadata": {},
   "outputs": [
    {
     "name": "stdout",
     "output_type": "stream",
     "text": [
      "   id             sentence  output\n",
      "0   1   apple banana apple       1\n",
      "1   2        banana orange       0\n",
      "2   3          grape apple       1\n",
      "3   4  banana orange grape       0\n",
      "4   5    apple grape fruit       1\n"
     ]
    }
   ],
   "source": [
    "import pandas as pd\n",
    "\n",
    "# Updated data with only 6 unique words total\n",
    "data = {\n",
    "    'id': [1, 2, 3, 4, 5],\n",
    "    'sentence': [\n",
    "        \"apple banana apple\",          # uses apple, banana\n",
    "        \"banana orange\",               # uses banana, orange\n",
    "        \"grape apple\",                 # uses grape, apple\n",
    "        \"banana orange grape\",         # banana, orange, grape\n",
    "        \"apple grape fruit\"            # apple, grape, fruit\n",
    "    ],\n",
    "    'output': [1, 0, 1, 0, 1]  # Binary labels\n",
    "}\n",
    "\n",
    "df = pd.DataFrame(data)\n",
    "print(df)"
   ]
  },
  {
   "cell_type": "code",
   "execution_count": 2,
   "id": "dd7d40dd-ec38-4e7f-bc1b-ebd8e9bf9431",
   "metadata": {},
   "outputs": [
    {
     "data": {
      "text/html": [
       "<div>\n",
       "<style scoped>\n",
       "    .dataframe tbody tr th:only-of-type {\n",
       "        vertical-align: middle;\n",
       "    }\n",
       "\n",
       "    .dataframe tbody tr th {\n",
       "        vertical-align: top;\n",
       "    }\n",
       "\n",
       "    .dataframe thead th {\n",
       "        text-align: right;\n",
       "    }\n",
       "</style>\n",
       "<table border=\"1\" class=\"dataframe\">\n",
       "  <thead>\n",
       "    <tr style=\"text-align: right;\">\n",
       "      <th></th>\n",
       "      <th>id</th>\n",
       "      <th>sentence</th>\n",
       "      <th>output</th>\n",
       "    </tr>\n",
       "  </thead>\n",
       "  <tbody>\n",
       "    <tr>\n",
       "      <th>0</th>\n",
       "      <td>1</td>\n",
       "      <td>apple banana apple</td>\n",
       "      <td>1</td>\n",
       "    </tr>\n",
       "    <tr>\n",
       "      <th>1</th>\n",
       "      <td>2</td>\n",
       "      <td>banana orange</td>\n",
       "      <td>0</td>\n",
       "    </tr>\n",
       "    <tr>\n",
       "      <th>2</th>\n",
       "      <td>3</td>\n",
       "      <td>grape apple</td>\n",
       "      <td>1</td>\n",
       "    </tr>\n",
       "    <tr>\n",
       "      <th>3</th>\n",
       "      <td>4</td>\n",
       "      <td>banana orange grape</td>\n",
       "      <td>0</td>\n",
       "    </tr>\n",
       "    <tr>\n",
       "      <th>4</th>\n",
       "      <td>5</td>\n",
       "      <td>apple grape fruit</td>\n",
       "      <td>1</td>\n",
       "    </tr>\n",
       "  </tbody>\n",
       "</table>\n",
       "</div>"
      ],
      "text/plain": [
       "   id             sentence  output\n",
       "0   1   apple banana apple       1\n",
       "1   2        banana orange       0\n",
       "2   3          grape apple       1\n",
       "3   4  banana orange grape       0\n",
       "4   5    apple grape fruit       1"
      ]
     },
     "execution_count": 2,
     "metadata": {},
     "output_type": "execute_result"
    }
   ],
   "source": [
    "df"
   ]
  },
  {
   "cell_type": "code",
   "execution_count": 3,
   "id": "fec718f0-0e6b-4903-a048-5006d9fea4cb",
   "metadata": {},
   "outputs": [],
   "source": [
    "from sklearn.feature_extraction.text import CountVectorizer"
   ]
  },
  {
   "cell_type": "code",
   "execution_count": 4,
   "id": "267597f2-cafd-4a22-bc8d-eb227eb4c45a",
   "metadata": {},
   "outputs": [],
   "source": [
    "cv = CountVectorizer(ngram_range=(2,2))"
   ]
  },
  {
   "cell_type": "code",
   "execution_count": 6,
   "id": "8b469bd8-be04-4ed3-acf9-0a95363622a6",
   "metadata": {},
   "outputs": [],
   "source": [
    "bow = cv.fit_transform(df['sentence'])"
   ]
  },
  {
   "cell_type": "code",
   "execution_count": 8,
   "id": "57c9da6d-fb61-493e-923a-298484be5525",
   "metadata": {},
   "outputs": [
    {
     "data": {
      "text/plain": [
       "array([[1, 0, 1, 0, 0, 0, 0]], dtype=int64)"
      ]
     },
     "execution_count": 8,
     "metadata": {},
     "output_type": "execute_result"
    }
   ],
   "source": [
    "bow[0].toarray()"
   ]
  },
  {
   "cell_type": "code",
   "execution_count": 9,
   "id": "5803de3f-32c4-4fa6-b40a-11f0a9f71797",
   "metadata": {},
   "outputs": [
    {
     "data": {
      "text/plain": [
       "{'apple banana': 0,\n",
       " 'banana apple': 2,\n",
       " 'banana orange': 3,\n",
       " 'grape apple': 4,\n",
       " 'orange grape': 6,\n",
       " 'apple grape': 1,\n",
       " 'grape fruit': 5}"
      ]
     },
     "execution_count": 9,
     "metadata": {},
     "output_type": "execute_result"
    }
   ],
   "source": [
    "cv.vocabulary_"
   ]
  },
  {
   "cell_type": "code",
   "execution_count": null,
   "id": "4538a399-9ad5-43d2-9db9-6972d28ded0f",
   "metadata": {},
   "outputs": [],
   "source": []
  }
 ],
 "metadata": {
  "kernelspec": {
   "display_name": "Python 3 (ipykernel)",
   "language": "python",
   "name": "python3"
  },
  "language_info": {
   "codemirror_mode": {
    "name": "ipython",
    "version": 3
   },
   "file_extension": ".py",
   "mimetype": "text/x-python",
   "name": "python",
   "nbconvert_exporter": "python",
   "pygments_lexer": "ipython3",
   "version": "3.9.18"
  }
 },
 "nbformat": 4,
 "nbformat_minor": 5
}

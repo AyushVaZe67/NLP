{
 "cells": [
  {
   "cell_type": "code",
   "execution_count": 1,
   "id": "7147fa6b-1a72-46a6-87fb-7164c3794788",
   "metadata": {},
   "outputs": [
    {
     "name": "stdout",
     "output_type": "stream",
     "text": [
      "   id             sentence  output\n",
      "0   1   apple banana apple       1\n",
      "1   2        banana orange       0\n",
      "2   3          grape apple       1\n",
      "3   4  banana orange grape       0\n",
      "4   5    apple grape fruit       1\n"
     ]
    }
   ],
   "source": [
    "import pandas as pd\n",
    "\n",
    "# Updated data with only 6 unique words total\n",
    "data = {\n",
    "    'id': [1, 2, 3, 4, 5],\n",
    "    'sentence': [\n",
    "        \"apple banana apple\",          # uses apple, banana\n",
    "        \"banana orange\",               # uses banana, orange\n",
    "        \"grape apple\",                 # uses grape, apple\n",
    "        \"banana orange grape\",         # banana, orange, grape\n",
    "        \"apple grape fruit\"            # apple, grape, fruit\n",
    "    ],\n",
    "    'output': [1, 0, 1, 0, 1]  # Binary labels\n",
    "}\n",
    "\n",
    "df = pd.DataFrame(data)\n",
    "print(df)"
   ]
  },
  {
   "cell_type": "code",
   "execution_count": 2,
   "id": "600c9816-3f04-4a15-8fbc-dfaaee06b590",
   "metadata": {},
   "outputs": [
    {
     "data": {
      "text/html": [
       "<div>\n",
       "<style scoped>\n",
       "    .dataframe tbody tr th:only-of-type {\n",
       "        vertical-align: middle;\n",
       "    }\n",
       "\n",
       "    .dataframe tbody tr th {\n",
       "        vertical-align: top;\n",
       "    }\n",
       "\n",
       "    .dataframe thead th {\n",
       "        text-align: right;\n",
       "    }\n",
       "</style>\n",
       "<table border=\"1\" class=\"dataframe\">\n",
       "  <thead>\n",
       "    <tr style=\"text-align: right;\">\n",
       "      <th></th>\n",
       "      <th>id</th>\n",
       "      <th>sentence</th>\n",
       "      <th>output</th>\n",
       "    </tr>\n",
       "  </thead>\n",
       "  <tbody>\n",
       "    <tr>\n",
       "      <th>0</th>\n",
       "      <td>1</td>\n",
       "      <td>apple banana apple</td>\n",
       "      <td>1</td>\n",
       "    </tr>\n",
       "    <tr>\n",
       "      <th>1</th>\n",
       "      <td>2</td>\n",
       "      <td>banana orange</td>\n",
       "      <td>0</td>\n",
       "    </tr>\n",
       "    <tr>\n",
       "      <th>2</th>\n",
       "      <td>3</td>\n",
       "      <td>grape apple</td>\n",
       "      <td>1</td>\n",
       "    </tr>\n",
       "    <tr>\n",
       "      <th>3</th>\n",
       "      <td>4</td>\n",
       "      <td>banana orange grape</td>\n",
       "      <td>0</td>\n",
       "    </tr>\n",
       "    <tr>\n",
       "      <th>4</th>\n",
       "      <td>5</td>\n",
       "      <td>apple grape fruit</td>\n",
       "      <td>1</td>\n",
       "    </tr>\n",
       "  </tbody>\n",
       "</table>\n",
       "</div>"
      ],
      "text/plain": [
       "   id             sentence  output\n",
       "0   1   apple banana apple       1\n",
       "1   2        banana orange       0\n",
       "2   3          grape apple       1\n",
       "3   4  banana orange grape       0\n",
       "4   5    apple grape fruit       1"
      ]
     },
     "execution_count": 2,
     "metadata": {},
     "output_type": "execute_result"
    }
   ],
   "source": [
    "df"
   ]
  },
  {
   "cell_type": "code",
   "execution_count": 3,
   "id": "261e6eb6-d842-402f-b93a-494a58e44af5",
   "metadata": {},
   "outputs": [],
   "source": [
    "from sklearn.feature_extraction.text import TfidfVectorizer\n",
    "tfidf = TfidfVectorizer()"
   ]
  },
  {
   "cell_type": "code",
   "execution_count": 5,
   "id": "400346da-6a40-4aed-9986-998eca2d3e53",
   "metadata": {},
   "outputs": [
    {
     "data": {
      "text/plain": [
       "array([[0.89442719, 0.4472136 , 0.        , 0.        , 0.        ],\n",
       "       [0.        , 0.63871058, 0.        , 0.        , 0.76944707],\n",
       "       [0.70710678, 0.        , 0.        , 0.70710678, 0.        ],\n",
       "       [0.        , 0.53828256, 0.        , 0.53828256, 0.64846263],\n",
       "       [0.48624042, 0.        , 0.72604443, 0.48624042, 0.        ]])"
      ]
     },
     "execution_count": 5,
     "metadata": {},
     "output_type": "execute_result"
    }
   ],
   "source": [
    "tfidf.fit_transform(df['sentence']).toarray()"
   ]
  },
  {
   "cell_type": "code",
   "execution_count": 6,
   "id": "8e1e34b2-381a-4101-9666-91262baca1e6",
   "metadata": {},
   "outputs": [
    {
     "name": "stdout",
     "output_type": "stream",
     "text": [
      "[1.40546511 1.40546511 2.09861229 1.40546511 1.69314718]\n"
     ]
    }
   ],
   "source": [
    "print(tfidf.idf_)"
   ]
  },
  {
   "cell_type": "code",
   "execution_count": 9,
   "id": "9a68049e-553b-43dc-97e2-79b9548012e2",
   "metadata": {},
   "outputs": [
    {
     "data": {
      "text/plain": [
       "array(['apple', 'banana', 'fruit', 'grape', 'orange'], dtype=object)"
      ]
     },
     "execution_count": 9,
     "metadata": {},
     "output_type": "execute_result"
    }
   ],
   "source": [
    "tfidf.get_feature_names_out()"
   ]
  },
  {
   "cell_type": "code",
   "execution_count": null,
   "id": "f15b963f-737f-43b3-a679-9ee9821e3895",
   "metadata": {},
   "outputs": [],
   "source": []
  }
 ],
 "metadata": {
  "kernelspec": {
   "display_name": "Python 3 (ipykernel)",
   "language": "python",
   "name": "python3"
  },
  "language_info": {
   "codemirror_mode": {
    "name": "ipython",
    "version": 3
   },
   "file_extension": ".py",
   "mimetype": "text/x-python",
   "name": "python",
   "nbconvert_exporter": "python",
   "pygments_lexer": "ipython3",
   "version": "3.9.18"
  }
 },
 "nbformat": 4,
 "nbformat_minor": 5
}

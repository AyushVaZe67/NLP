{
 "cells": [
  {
   "cell_type": "code",
   "execution_count": null,
   "id": "367985bd-3e50-46f4-8c8e-3745389d527b",
   "metadata": {},
   "outputs": [],
   "source": []
  }
 ],
 "metadata": {
  "kernelspec": {
   "display_name": "",
   "name": ""
  },
  "language_info": {
   "name": ""
  }
 },
 "nbformat": 4,
 "nbformat_minor": 5
}
